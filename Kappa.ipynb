{
 "cells": [
  {
   "cell_type": "markdown",
   "metadata": {},
   "source": [
    "## TEAM 24"
   ]
  },
  {
   "cell_type": "code",
   "execution_count": 2,
   "metadata": {},
   "outputs": [],
   "source": [
    "import csv\n",
    "import json\n",
    "from statsmodels.stats.inter_rater import fleiss_kappa\n",
    "import numpy as np\n",
    "from sklearn.metrics import cohen_kappa_score"
   ]
  },
  {
   "cell_type": "markdown",
   "metadata": {},
   "source": [
    "## POS : Cohen Kappa"
   ]
  },
  {
   "cell_type": "code",
   "execution_count": 3,
   "metadata": {},
   "outputs": [],
   "source": [
    "POS_LABELS = [ \"NOUN\", \"PROPN\", \"VERB\", \"ADJ\", \"ADV\", \"ADP\", \"PRON\", \"DET\", \"CONJ\", \"PART\", \"PRON_WH\", \"PART_NEG\", \"NUM\", \"X\"]"
   ]
  },
  {
   "cell_type": "code",
   "execution_count": 4,
   "metadata": {},
   "outputs": [],
   "source": [
    "# function to load data and return an array of label value for each token\n",
    "def POS_data_arr(csv_file,i):\n",
    "    data = []\n",
    "    with open(csv_file) as csvfile:\n",
    "        reader = csv.DictReader(csvfile)\n",
    "        for row in reader:\n",
    "            col = json.loads(row[\"label\"])\n",
    "            for labels in col:\n",
    "                labels = labels[\"labels\"]\n",
    "                for label in labels:\n",
    "                    # find the index of label from POS_LABELS and append it to the data list\n",
    "                    data.append(POS_LABELS.index(label))\n",
    "    return np.array(data)"
   ]
  },
  {
   "cell_type": "code",
   "execution_count": 10,
   "metadata": {},
   "outputs": [
    {
     "name": "stdout",
     "output_type": "stream",
     "text": [
      "Cohen kappa score: 0.684578779\n"
     ]
    }
   ],
   "source": [
    "# get label arrays\n",
    "POS_labels0 = POS_data_arr(\"POS_annotation_srajan.csv\",0)\n",
    "POS_labels1 = POS_data_arr(\"POS_annotation_rahul.csv\",1)\n",
    "\n",
    "# calculate cohen_kappa\n",
    "cohen_kappa = cohen_kappa_score(POS_labels0,POS_labels1)\n",
    "print(f\"Cohen kappa score: {cohen_kappa}\")"
   ]
  },
  {
   "cell_type": "markdown",
   "metadata": {},
   "source": [
    "The Cohen kappa score is near to 1 implying there was very high agreement between the annotators"
   ]
  },
  {
   "cell_type": "markdown",
   "metadata": {},
   "source": [
    "## CV : Fleiss Kappa"
   ]
  },
  {
   "cell_type": "code",
   "execution_count": 6,
   "metadata": {},
   "outputs": [],
   "source": [
    "# function to load data and return an array of label value for each token\n",
    "def CV_data_matrix(csv_file,i):\n",
    "    data = []\n",
    "    with open(csv_file) as csvfile:\n",
    "        reader = csv.DictReader(csvfile)\n",
    "        for row in reader:\n",
    "            # first col indicates 'Trucks' and second col indicates 'No Trucks'\n",
    "            data.append([0,1] if row[\"choice\"]==\"No Trucks\" else [1,0])\n",
    "    return np.array(data)"
   ]
  },
  {
   "cell_type": "code",
   "execution_count": 7,
   "metadata": {},
   "outputs": [
    {
     "name": "stdout",
     "output_type": "stream",
     "text": [
      "Fleiss kappa score: 0.22077922077922085\n"
     ]
    }
   ],
   "source": [
    "# load and get label matrices\n",
    "CV_labels0 = CV_data_matrix(\"CV_annotation_srajan.csv\",0)\n",
    "CV_labels1 = CV_data_matrix(\"CV_annotation_rahul.csv\",1)\n",
    "CV_labels2 = CV_data_matrix(\"CV_annotation_other.csv\",2)\n",
    "\n",
    "CV_labels = CV_labels0 + CV_labels1 + CV_labels2\n",
    "\n",
    "value = fleiss_kappa(CV_labels)\n",
    "print(f\"Fleiss kappa score: {value}\")"
   ]
  },
  {
   "cell_type": "markdown",
   "metadata": {},
   "source": [
    "The Fleiss kappa score is about 0.22 implying there was fair degree of agreement between the annotators"
   ]
  }
 ],
 "metadata": {
  "kernelspec": {
   "display_name": "work",
   "language": "python",
   "name": "python3"
  },
  "language_info": {
   "codemirror_mode": {
    "name": "ipython",
    "version": 3
   },
   "file_extension": ".py",
   "mimetype": "text/x-python",
   "name": "python",
   "nbconvert_exporter": "python",
   "pygments_lexer": "ipython3",
   "version": "3.12.8"
  }
 },
 "nbformat": 4,
 "nbformat_minor": 2
}
